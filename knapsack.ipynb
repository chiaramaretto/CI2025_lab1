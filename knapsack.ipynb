{
 "cells": [
  {
   "cell_type": "markdown",
   "id": "c189c66f",
   "metadata": {},
   "source": [
    "## Multi-dimensional 0-1 knapsack problem"
   ]
  },
  {
   "cell_type": "code",
   "execution_count": 1,
   "id": "c0882a9f",
   "metadata": {},
   "outputs": [],
   "source": [
    "import numpy as np\n",
    "from tqdm.notebook import tqdm\n",
    "from icecream import ic\n",
    "import math"
   ]
  },
  {
   "cell_type": "code",
   "execution_count": 2,
   "id": "3adb670e",
   "metadata": {},
   "outputs": [],
   "source": [
    "NUM_KNAPSACKS = 2\n",
    "NUM_ITEMS = 10\n",
    "NUM_DIMENSIONS = 2"
   ]
  },
  {
   "cell_type": "code",
   "execution_count": 3,
   "id": "a94a8240",
   "metadata": {},
   "outputs": [],
   "source": [
    "MAX_STEPS = 20000"
   ]
  },
  {
   "cell_type": "code",
   "execution_count": 4,
   "id": "2db51e99",
   "metadata": {},
   "outputs": [],
   "source": [
    "VALUES = np.random.randint(0, 100, size=NUM_ITEMS)\n",
    "WEIGHTS = np.random.randint(0, 100, size=(NUM_ITEMS, NUM_DIMENSIONS))\n",
    "CONSTRAINTS = np.random.randint(0, 100 * NUM_ITEMS // NUM_KNAPSACKS, size=(NUM_KNAPSACKS, NUM_DIMENSIONS))"
   ]
  },
  {
   "cell_type": "code",
   "execution_count": 5,
   "id": "0dfc3703",
   "metadata": {},
   "outputs": [],
   "source": [
    "def valid_solution(solution):\n",
    "    if solution is None:\n",
    "        return False\n",
    "    for kp in range(NUM_KNAPSACKS):\n",
    "        if np.any(WEIGHTS[solution == kp].sum(axis = 0) > CONSTRAINTS[kp]):\n",
    "            return False\n",
    "    return True"
   ]
  },
  {
   "cell_type": "code",
   "execution_count": 6,
   "id": "d1058dfc",
   "metadata": {},
   "outputs": [],
   "source": [
    "# compute total value of items in knapsacks\n",
    "def fitness(solution):\n",
    "    if not valid_solution(solution):\n",
    "        return 0\n",
    "    total_value = 0\n",
    "    for kp in range(NUM_KNAPSACKS):\n",
    "        total_value += VALUES[solution == kp].sum()\n",
    "    return total_value "
   ]
  },
  {
   "cell_type": "code",
   "execution_count": 7,
   "id": "47e1c7f2",
   "metadata": {},
   "outputs": [],
   "source": [
    "def tweak(solution):\n",
    "    new_solution = np.array(solution, copy=True)\n",
    "    indexes = np.random.choice(NUM_ITEMS, size=(NUM_ITEMS//max(1,(NUM_ITEMS//20))), replace=False)\n",
    "    new_values = np.random.randint(-1, NUM_KNAPSACKS, size=len(indexes))\n",
    "    mask = new_values == new_solution[indexes]\n",
    "    new_values[mask] = (new_values[mask] + 1 - (-1)) % NUM_KNAPSACKS - 1\n",
    "    new_solution[indexes] = new_values\n",
    "    return new_solution\n"
   ]
  },
  {
   "cell_type": "markdown",
   "id": "8e0e0673",
   "metadata": {},
   "source": [
    "## TEST PROBLEMS"
   ]
  },
  {
   "cell_type": "code",
   "execution_count": 8,
   "id": "5595db9c",
   "metadata": {},
   "outputs": [],
   "source": [
    "# Problem 1:\n",
    "rng = np.random.default_rng(seed=42)\n",
    "NUM_KNAPSACKS = 3\n",
    "NUM_ITEMS = 20\n",
    "NUM_DIMENSIONS = 2\n",
    "VALUES = rng.integers(0, 100, size=NUM_ITEMS)\n",
    "WEIGHTS = rng.integers(0, 100, size=(NUM_ITEMS, NUM_DIMENSIONS))\n",
    "CONSTRAINTS = rng.integers(0, 100 * NUM_ITEMS // NUM_KNAPSACKS, size=(NUM_KNAPSACKS, NUM_DIMENSIONS))"
   ]
  },
  {
   "cell_type": "code",
   "execution_count": 9,
   "id": "1757e64c",
   "metadata": {},
   "outputs": [
    {
     "name": "stderr",
     "output_type": "stream",
     "text": [
      "ic| best_solution: array([ 2,  0, -1, -1, -1, -1, -1, -1, -1, -1, -1, -1, -1, -1, -1, -1, -1,\n",
      "                          -1, -1, -1])\n",
      "    best_obj: np.int64(85)\n",
      "    valid_solution(best_solution): True\n"
     ]
    },
    {
     "data": {
      "text/plain": [
       "(array([ 2,  0, -1, -1, -1, -1, -1, -1, -1, -1, -1, -1, -1, -1, -1, -1, -1,\n",
       "        -1, -1, -1]),\n",
       " np.int64(85),\n",
       " True)"
      ]
     },
     "execution_count": 9,
     "metadata": {},
     "output_type": "execute_result"
    }
   ],
   "source": [
    "solution_representations = list(range(-1, NUM_KNAPSACKS)) \n",
    "current_solution = np.concatenate([np.random.choice(solution_representations, size=NUM_ITEMS//6), [-1]*(NUM_ITEMS - NUM_ITEMS//6)])\n",
    "while not valid_solution(current_solution):\n",
    "    current_solution = np.concatenate([np.random.choice(solution_representations, size=NUM_ITEMS//6), [-1]*(NUM_ITEMS - NUM_ITEMS//6)])\n",
    "current_obj = fitness(current_solution)\n",
    "best_solution = current_solution \n",
    "best_obj = current_obj \n",
    "ic(best_solution, best_obj, valid_solution(best_solution))"
   ]
  },
  {
   "cell_type": "code",
   "execution_count": 10,
   "id": "d29992ae",
   "metadata": {},
   "outputs": [
    {
     "data": {
      "application/vnd.jupyter.widget-view+json": {
       "model_id": "e919af5eccd34f4b8ae55950dfba0924",
       "version_major": 2,
       "version_minor": 0
      },
      "text/plain": [
       "  0%|          | 0/20000 [00:00<?, ?it/s]"
      ]
     },
     "metadata": {},
     "output_type": "display_data"
    },
    {
     "name": "stderr",
     "output_type": "stream",
     "text": [
      "ic| best_solution: array([-1,  1,  0,  1,  0,  0,  2,  0,  0,  2,  0,  1,  1,  1,  0,  2,  0,\n",
      "                           0,  0,  2])\n",
      "    best_obj: np.int64(1057)\n",
      "    valid_solution(best_solution): True\n"
     ]
    },
    {
     "data": {
      "text/plain": [
       "(array([-1,  1,  0,  1,  0,  0,  2,  0,  0,  2,  0,  1,  1,  1,  0,  2,  0,\n",
       "         0,  0,  2]),\n",
       " np.int64(1057),\n",
       " True)"
      ]
     },
     "execution_count": 10,
     "metadata": {},
     "output_type": "execute_result"
    }
   ],
   "source": [
    "temp = 1.0\n",
    "\n",
    "for step in tqdm(range(MAX_STEPS)):\n",
    "    new_solution = tweak(current_solution)\n",
    "    new_obj = fitness(new_solution)\n",
    "    if new_obj >= current_obj:\n",
    "        current_solution = new_solution\n",
    "        current_obj = new_obj            \n",
    "        best_solution = current_solution\n",
    "        best_obj = current_obj\n",
    "    elif new_obj == 0 or new_obj < current_obj:\n",
    "        diff = new_obj - current_obj\n",
    "        p = math.exp(diff / temp)\n",
    "\n",
    "        if np.random.rand() < p:\n",
    "            current_solution = new_solution\n",
    "            current_obj = new_obj\n",
    "    temp *= 0.99\n",
    "    \n",
    "ic(best_solution, best_obj, valid_solution(best_solution))           \n",
    "    "
   ]
  },
  {
   "cell_type": "code",
   "execution_count": 11,
   "id": "9eed08a0",
   "metadata": {},
   "outputs": [],
   "source": [
    "# Problem 2:\n",
    "rng = np.random.default_rng(seed=42)\n",
    "NUM_KNAPSACKS = 10\n",
    "NUM_ITEMS = 100\n",
    "NUM_DIMENSIONS = 10\n",
    "VALUES = rng.integers(0, 1000, size=NUM_ITEMS)\n",
    "WEIGHTS = rng.integers(0, 1000, size=(NUM_ITEMS, NUM_DIMENSIONS))\n",
    "CONSTRAINTS = rng.integers(1000 * 2, 1000 * NUM_ITEMS // NUM_KNAPSACKS,size=(NUM_KNAPSACKS, NUM_DIMENSIONS))"
   ]
  },
  {
   "cell_type": "code",
   "execution_count": 12,
   "id": "cbeab43f",
   "metadata": {},
   "outputs": [
    {
     "name": "stderr",
     "output_type": "stream",
     "text": [
      "ic| best_solution: array([ 2,  5,  4,  8,  9,  7,  4,  5,  3,  5,  9,  3,  4,  9,  2,  9, -1,\n",
      "                          -1, -1, -1, -1, -1, -1, -1, -1, -1, -1, -1, -1, -1, -1, -1, -1, -1,\n",
      "                          -1, -1, -1, -1, -1, -1, -1, -1, -1, -1, -1, -1, -1, -1, -1, -1, -1,\n",
      "                          -1, -1, -1, -1, -1, -1, -1, -1, -1, -1, -1, -1, -1, -1, -1, -1, -1,\n",
      "                          -1, -1, -1, -1, -1, -1, -1, -1, -1, -1, -1, -1, -1, -1, -1, -1, -1,\n",
      "                          -1, -1, -1, -1, -1, -1, -1, -1, -1, -1, -1, -1, -1, -1, -1])\n",
      "    best_obj: np.int64(8822)\n",
      "    valid_solution(best_solution): True\n"
     ]
    },
    {
     "data": {
      "text/plain": [
       "(array([ 2,  5,  4,  8,  9,  7,  4,  5,  3,  5,  9,  3,  4,  9,  2,  9, -1,\n",
       "        -1, -1, -1, -1, -1, -1, -1, -1, -1, -1, -1, -1, -1, -1, -1, -1, -1,\n",
       "        -1, -1, -1, -1, -1, -1, -1, -1, -1, -1, -1, -1, -1, -1, -1, -1, -1,\n",
       "        -1, -1, -1, -1, -1, -1, -1, -1, -1, -1, -1, -1, -1, -1, -1, -1, -1,\n",
       "        -1, -1, -1, -1, -1, -1, -1, -1, -1, -1, -1, -1, -1, -1, -1, -1, -1,\n",
       "        -1, -1, -1, -1, -1, -1, -1, -1, -1, -1, -1, -1, -1, -1, -1]),\n",
       " np.int64(8822),\n",
       " True)"
      ]
     },
     "execution_count": 12,
     "metadata": {},
     "output_type": "execute_result"
    }
   ],
   "source": [
    "solution_representations = list(range(-1, NUM_KNAPSACKS)) \n",
    "current_solution = np.concatenate([np.random.choice(solution_representations, size=NUM_ITEMS//6), [-1]*(NUM_ITEMS - NUM_ITEMS//6)])\n",
    "while not valid_solution(current_solution):\n",
    "    current_solution = np.concatenate([np.random.choice(solution_representations, size=NUM_ITEMS//6), [-1]*(NUM_ITEMS - NUM_ITEMS//6)])\n",
    "current_obj = fitness(current_solution)\n",
    "best_solution = current_solution \n",
    "best_obj = current_obj \n",
    "ic(best_solution, best_obj, valid_solution(best_solution))"
   ]
  },
  {
   "cell_type": "code",
   "execution_count": 13,
   "id": "173f2994",
   "metadata": {},
   "outputs": [
    {
     "data": {
      "application/vnd.jupyter.widget-view+json": {
       "model_id": "ad7b720844e94596bad125fd5534264d",
       "version_major": 2,
       "version_minor": 0
      },
      "text/plain": [
       "  0%|          | 0/20000 [00:00<?, ?it/s]"
      ]
     },
     "metadata": {},
     "output_type": "display_data"
    },
    {
     "name": "stderr",
     "output_type": "stream",
     "text": [
      "ic| best_solution: array([ 2,  3,  3,  0,  4,  7,  5,  9, -1,  6,  6,  3,  8,  6,  2,  9, -1,\n",
      "                           1, -1, -1, -1, -1, -1,  1,  4,  4,  5, -1,  0,  1,  7, -1, -1, -1,\n",
      "                           9,  6,  9, -1, -1,  9, -1, -1, -1, -1, -1, -1,  9, -1, -1, -1, -1,\n",
      "                           8,  8,  5, -1, -1,  9,  2, -1, -1, -1, -1, -1,  1, -1, -1,  5,  3,\n",
      "                          -1, -1, -1, -1, -1,  1, -1, -1, -1,  5,  5, -1, -1, -1,  0, -1,  4,\n",
      "                          -1,  0,  4, -1, -1, -1, -1,  4, -1,  0,  0, -1, -1, -1,  7])\n",
      "    best_obj: np.int64(24071)\n",
      "    valid_solution(best_solution): True\n"
     ]
    },
    {
     "data": {
      "text/plain": [
       "(array([ 2,  3,  3,  0,  4,  7,  5,  9, -1,  6,  6,  3,  8,  6,  2,  9, -1,\n",
       "         1, -1, -1, -1, -1, -1,  1,  4,  4,  5, -1,  0,  1,  7, -1, -1, -1,\n",
       "         9,  6,  9, -1, -1,  9, -1, -1, -1, -1, -1, -1,  9, -1, -1, -1, -1,\n",
       "         8,  8,  5, -1, -1,  9,  2, -1, -1, -1, -1, -1,  1, -1, -1,  5,  3,\n",
       "        -1, -1, -1, -1, -1,  1, -1, -1, -1,  5,  5, -1, -1, -1,  0, -1,  4,\n",
       "        -1,  0,  4, -1, -1, -1, -1,  4, -1,  0,  0, -1, -1, -1,  7]),\n",
       " np.int64(24071),\n",
       " True)"
      ]
     },
     "execution_count": 13,
     "metadata": {},
     "output_type": "execute_result"
    }
   ],
   "source": [
    "temp = 1.0\n",
    "\n",
    "for step in tqdm(range(MAX_STEPS)):\n",
    "    new_solution = tweak(current_solution)\n",
    "    new_obj = fitness(new_solution)\n",
    "    if new_obj >= current_obj:\n",
    "        current_solution = new_solution\n",
    "        current_obj = new_obj            \n",
    "        best_solution = current_solution\n",
    "        best_obj = current_obj\n",
    "    elif new_obj == 0 or new_obj < current_obj:\n",
    "        diff = new_obj - current_obj\n",
    "        p = math.exp(diff / temp)\n",
    "\n",
    "        if np.random.rand() < p:\n",
    "            current_solution = new_solution\n",
    "            current_obj = new_obj\n",
    "    temp *= 0.99\n",
    "\n",
    "ic(best_solution, best_obj, valid_solution(best_solution))           \n",
    "    "
   ]
  },
  {
   "cell_type": "code",
   "execution_count": 14,
   "id": "117380d6",
   "metadata": {},
   "outputs": [],
   "source": [
    "# Problem 3:\n",
    "rng = np.random.default_rng(seed=42)\n",
    "NUM_KNAPSACKS = 100\n",
    "NUM_ITEMS = 5000\n",
    "NUM_DIMENSIONS = 100\n",
    "VALUES = rng.integers(0, 1000, size=NUM_ITEMS)\n",
    "WEIGHTS = rng.integers(0, 1000, size=(NUM_ITEMS, NUM_DIMENSIONS))\n",
    "CONSTRAINTS = rng.integers(1000 * 10, 1000 * 2 * NUM_ITEMS // NUM_KNAPSACKS, size=(NUM_KNAPSACKS, NUM_DIMENSIONS))"
   ]
  },
  {
   "cell_type": "code",
   "execution_count": 15,
   "id": "2439eefa",
   "metadata": {},
   "outputs": [
    {
     "name": "stderr",
     "output_type": "stream",
     "text": [
      "ic| best_solution: array([89, 36, 77, ..., -1, -1, -1], shape=(5000,))\n",
      "    best_obj: np.int64(418465)\n",
      "    valid_solution(best_solution): True\n"
     ]
    },
    {
     "data": {
      "text/plain": [
       "(array([89, 36, 77, ..., -1, -1, -1], shape=(5000,)), np.int64(418465), True)"
      ]
     },
     "execution_count": 15,
     "metadata": {},
     "output_type": "execute_result"
    }
   ],
   "source": [
    "solution_representations = list(range(-1, NUM_KNAPSACKS)) \n",
    "current_solution = np.concatenate([np.random.choice(solution_representations, size=NUM_ITEMS//6), [-1]*(NUM_ITEMS - NUM_ITEMS//6)])\n",
    "while not valid_solution(current_solution):\n",
    "    current_solution = np.concatenate([np.random.choice(solution_representations, size=NUM_ITEMS//6), [-1]*(NUM_ITEMS - NUM_ITEMS//6)])\n",
    "current_obj = fitness(current_solution)\n",
    "best_solution = current_solution \n",
    "best_obj = current_obj \n",
    "ic(best_solution, best_obj, valid_solution(best_solution))"
   ]
  },
  {
   "cell_type": "code",
   "execution_count": 16,
   "id": "ef563201",
   "metadata": {},
   "outputs": [
    {
     "data": {
      "application/vnd.jupyter.widget-view+json": {
       "model_id": "9dcdfe4838634bdeb523e22c5c12d6c7",
       "version_major": 2,
       "version_minor": 0
      },
      "text/plain": [
       "  0%|          | 0/20000 [00:00<?, ?it/s]"
      ]
     },
     "metadata": {},
     "output_type": "display_data"
    },
    {
     "name": "stderr",
     "output_type": "stream",
     "text": [
      "ic| best_solution: array([89, 36, 77, ..., -1, 81, -1], shape=(5000,))\n",
      "    best_obj: np.int64(924696)\n",
      "    valid_solution(best_solution): True\n"
     ]
    },
    {
     "data": {
      "text/plain": [
       "(array([89, 36, 77, ..., -1, 81, -1], shape=(5000,)), np.int64(924696), True)"
      ]
     },
     "execution_count": 16,
     "metadata": {},
     "output_type": "execute_result"
    }
   ],
   "source": [
    "temp = 1.0\n",
    "\n",
    "for step in tqdm(range(MAX_STEPS)):\n",
    "    new_solution = tweak(current_solution)\n",
    "    new_obj = fitness(new_solution)\n",
    "    if new_obj >= current_obj:\n",
    "        current_solution = new_solution\n",
    "        current_obj = new_obj            \n",
    "        best_solution = current_solution\n",
    "        best_obj = current_obj\n",
    "    elif new_obj == 0 or new_obj < current_obj:\n",
    "        diff = new_obj - current_obj\n",
    "        p = math.exp(diff / temp)\n",
    "\n",
    "        if np.random.rand() < p:\n",
    "            current_solution = new_solution\n",
    "            current_obj = new_obj\n",
    "    temp *= 0.99\n",
    "\n",
    "ic(best_solution, best_obj, valid_solution(best_solution))           \n",
    "    "
   ]
  }
 ],
 "metadata": {
  "kernelspec": {
   "display_name": "cienv",
   "language": "python",
   "name": "python3"
  },
  "language_info": {
   "codemirror_mode": {
    "name": "ipython",
    "version": 3
   },
   "file_extension": ".py",
   "mimetype": "text/x-python",
   "name": "python",
   "nbconvert_exporter": "python",
   "pygments_lexer": "ipython3",
   "version": "3.13.2"
  }
 },
 "nbformat": 4,
 "nbformat_minor": 5
}
