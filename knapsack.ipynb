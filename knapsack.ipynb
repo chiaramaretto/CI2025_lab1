{
 "cells": [
  {
   "cell_type": "markdown",
   "id": "c189c66f",
   "metadata": {},
   "source": [
    "## Multi-dimensional 0-1 knapsack problem\n",
    "The solution is encoded as array of length NUM_ITEMS, where each cell is an item and the value inside represents the specific knapsack it's been assigned (from 0 to NUM_KNAPSACK-1) to or -1 if unassigned."
   ]
  },
  {
   "cell_type": "code",
   "execution_count": null,
   "id": "c0882a9f",
   "metadata": {},
   "outputs": [],
   "source": [
    "import numpy as np\n",
    "from tqdm.notebook import tqdm\n",
    "from icecream import ic\n",
    "import matplotlib.pyplot as plt\n",
    "import math"
   ]
  },
  {
   "cell_type": "code",
   "execution_count": null,
   "id": "3adb670e",
   "metadata": {},
   "outputs": [],
   "source": [
    "NUM_KNAPSACKS = 2\n",
    "NUM_ITEMS = 10\n",
    "NUM_DIMENSIONS = 2"
   ]
  },
  {
   "cell_type": "code",
   "execution_count": null,
   "id": "a94a8240",
   "metadata": {},
   "outputs": [],
   "source": [
    "MAX_STEPS = 10000"
   ]
  },
  {
   "cell_type": "code",
   "execution_count": null,
   "id": "2db51e99",
   "metadata": {},
   "outputs": [],
   "source": [
    "VALUES = np.random.randint(0, 100, size=NUM_ITEMS)\n",
    "WEIGHTS = np.random.randint(0, 100, size=(NUM_ITEMS, NUM_DIMENSIONS))\n",
    "CONSTRAINTS = np.random.randint(0, 100 * NUM_ITEMS // NUM_KNAPSACKS, size=(NUM_KNAPSACKS, NUM_DIMENSIONS))"
   ]
  },
  {
   "cell_type": "code",
   "execution_count": null,
   "id": "0dfc3703",
   "metadata": {},
   "outputs": [],
   "source": [
    "\"\"\" Check if a solution satisfies all constraints \"\"\"\n",
    "def valid_solution(solution):\n",
    "    for kp in range(NUM_KNAPSACKS):\n",
    "        if np.any(WEIGHTS[solution == kp].sum(axis = 0) > CONSTRAINTS[kp]):\n",
    "            return False\n",
    "    return True"
   ]
  },
  {
   "cell_type": "code",
   "execution_count": null,
   "id": "d1058dfc",
   "metadata": {},
   "outputs": [],
   "source": [
    "\"\"\" Fitness function: sum of values of items in knapsacks if valid \"\"\"\n",
    "def fitness(solution):\n",
    "    return np.sum(VALUES[solution >= 0])"
   ]
  },
  {
   "cell_type": "code",
   "execution_count": null,
   "id": "47e1c7f2",
   "metadata": {},
   "outputs": [],
   "source": [
    "\"\"\" Tweak function: move one item to a different knapsack or unassign it\"\"\"\n",
    "def tweak(solution):\n",
    "    new_solution = solution.copy()\n",
    "    # Choose a random item\n",
    "    i = np.random.randint(0, NUM_ITEMS)\n",
    "    solution_representations = np.arange(-1, NUM_KNAPSACKS)\n",
    "    # Choose a new knapsack for the item OR unassign it\n",
    "    new_value = np.random.choice(solution_representations)\n",
    "    while new_value == solution[i]:\n",
    "        new_value = np.random.choice(solution_representations)\n",
    "    new_solution[i] = new_value\n",
    "    # If we unassigned an item, assign the backpack to a random unassigned item (if any)\n",
    "    if new_value == -1:\n",
    "        old_value = solution[i]\n",
    "        unassigned_items = np.arange(NUM_ITEMS)[solution == -1]\n",
    "        if len(unassigned_items) >= 1:\n",
    "            j = np.random.choice(unassigned_items)\n",
    "            new_solution[j] = old_value\n",
    "    return new_solution"
   ]
  },
  {
   "cell_type": "code",
   "execution_count": null,
   "id": "1f457e47",
   "metadata": {},
   "outputs": [],
   "source": [
    "\"\"\" Class to store experiment results and plot fitness over time \"\"\"\n",
    "class ExperimentResult:\n",
    "    def __init__(self, name):\n",
    "        self.name = name\n",
    "        self.fitness_history = []\n",
    "        self.best_solution = None\n",
    "        self.best_fitness = -1\n",
    "        self.restarts = []\n",
    "    \n",
    "    def add_fitness(self, fitness, solution):\n",
    "        self.fitness_history.append(fitness)\n",
    "        if fitness > self.best_fitness:\n",
    "            self.best_fitness = fitness\n",
    "            self.best_solution = solution.copy()\n",
    "    \n",
    "    def plot_fitness(self):\n",
    "        fig, ax = plt.subplots()\n",
    "        ax.plot(self.fitness_history)\n",
    "        if len(self.restarts) > 0:\n",
    "            for r in self.restarts:\n",
    "                ax.axvline(r, color='red', linestyle='--', alpha=0.5)\n",
    "        ax.set_xlabel(\"Iteration\")\n",
    "        ax.set_ylabel(\"Fitness\")\n",
    "        ax.set_title(self.name)\n",
    "        ax.set_xlim(0, len(self.fitness_history))\n",
    "        ax.set_ylim(0, np.sum(VALUES) * 1.1)\n",
    "        ax.axhline(np.sum(VALUES), color='green', linestyle='--', alpha=0.5, label='Total maximum value')\n",
    "        ax.legend(loc=\"lower right\")\n",
    "        plt.show()\n",
    "        return ax\n",
    "    \n",
    "    def __str__(self):\n",
    "        header = f\"Experiment: {self.name}\\n\"\n",
    "        best = f\"Best Fitness: {self.best_fitness}\\n\"\n",
    "        for k in range(NUM_KNAPSACKS):\n",
    "            best += f\" Knapsack {k}: items {np.where(self.best_solution == k)[0].tolist()}\\n\"\n",
    "        best += f\" Unassigned items: {np.where(self.best_solution == -1)[0].tolist()}\\n\"\n",
    "        return header + best"
   ]
  },
  {
   "cell_type": "code",
   "execution_count": null,
   "id": "9833c910",
   "metadata": {},
   "outputs": [],
   "source": [
    "\"\"\" Simulated Annealing algorithm \"\"\"\n",
    "def simulatedAnnealing():\n",
    "    # start from a valid solution where no items are assigned\n",
    "    current_solution = np.full(NUM_ITEMS, -1)\n",
    "    current_obj = fitness(current_solution)\n",
    "    best_solution = current_solution \n",
    "    best_obj = current_obj \n",
    "    results = ExperimentResult(\"Simulated Annealing\")\n",
    "    results.add_fitness(current_obj, current_solution)\n",
    "    temp = 100\n",
    "    for step in tqdm(range(MAX_STEPS)):\n",
    "        new_solution = tweak(current_solution)\n",
    "        new_obj = fitness(new_solution)\n",
    "        if valid_solution(new_solution):\n",
    "            if new_obj >= current_obj:\n",
    "                current_solution = new_solution\n",
    "                current_obj = new_obj            \n",
    "                if new_obj > best_obj:\n",
    "                    best_solution = new_solution\n",
    "                    best_obj = new_obj\n",
    "                \n",
    "            else:\n",
    "                diff = new_obj - current_obj\n",
    "                p = math.exp(diff / temp)\n",
    "\n",
    "                if np.random.rand() < p:\n",
    "                    current_solution = new_solution\n",
    "                    current_obj = new_obj\n",
    "        temp *= 0.99\n",
    "        results.add_fitness(current_obj, current_solution)\n",
    "    return results"
   ]
  },
  {
   "cell_type": "code",
   "execution_count": null,
   "id": "311358a5",
   "metadata": {},
   "outputs": [],
   "source": [
    "\"\"\" Steepest Ascent Hill Climbing algorithm \"\"\"\n",
    "def steepestAscentHillClimbing(num_neighbors=5):\n",
    "    current_solution = np.full(NUM_ITEMS, -1)\n",
    "    current_obj = fitness(current_solution)\n",
    "    best_solution = current_solution \n",
    "    best_obj = current_obj \n",
    "    results = ExperimentResult(\"Steepest Ascent Hill Climbing\")\n",
    "    results.add_fitness(current_obj, current_solution)\n",
    "    for step in tqdm(range(MAX_STEPS)):\n",
    "        neighbors = []\n",
    "        neighbor_objs = []\n",
    "        for _ in range(num_neighbors):\n",
    "            new_solution = tweak(current_solution)\n",
    "            if valid_solution(new_solution):\n",
    "                neighbors.append(new_solution)\n",
    "                neighbor_objs.append(fitness(new_solution))\n",
    "        if len(neighbors) == 0:\n",
    "            results.add_fitness(current_obj, current_solution)\n",
    "            continue\n",
    "        max_index = np.argmax(neighbor_objs)\n",
    "        max_obj = neighbor_objs[max_index]\n",
    "        if max_obj > current_obj:\n",
    "            current_solution = neighbors[max_index]\n",
    "            current_obj = max_obj\n",
    "            if current_obj > best_obj:\n",
    "                best_solution = current_solution\n",
    "                best_obj = current_obj\n",
    "        results.add_fitness(current_obj, current_solution)\n",
    "    return results"
   ]
  },
  {
   "cell_type": "markdown",
   "id": "8e0e0673",
   "metadata": {},
   "source": [
    "## TEST PROBLEMS"
   ]
  },
  {
   "cell_type": "code",
   "execution_count": null,
   "id": "5595db9c",
   "metadata": {},
   "outputs": [],
   "source": [
    "# Problem 1:\n",
    "rng = np.random.default_rng(seed=42)\n",
    "NUM_KNAPSACKS = 3\n",
    "NUM_ITEMS = 20\n",
    "NUM_DIMENSIONS = 2\n",
    "VALUES = rng.integers(0, 100, size=NUM_ITEMS)\n",
    "WEIGHTS = rng.integers(0, 100, size=(NUM_ITEMS, NUM_DIMENSIONS))\n",
    "CONSTRAINTS = rng.integers(0, 100 * NUM_ITEMS // NUM_KNAPSACKS, size=(NUM_KNAPSACKS, NUM_DIMENSIONS))"
   ]
  },
  {
   "cell_type": "code",
   "execution_count": null,
   "id": "385dbf12",
   "metadata": {},
   "outputs": [],
   "source": [
    "results = simulatedAnnealing()\n",
    "results.plot_fitness()\n",
    "print(results)"
   ]
  },
  {
   "cell_type": "code",
   "execution_count": null,
   "id": "e5eac6c6",
   "metadata": {},
   "outputs": [],
   "source": [
    "results = steepestAscentHillClimbing()\n",
    "results.plot_fitness()\n",
    "print(results)"
   ]
  },
  {
   "cell_type": "code",
   "execution_count": null,
   "id": "9eed08a0",
   "metadata": {},
   "outputs": [],
   "source": [
    "# Problem 2:\n",
    "rng = np.random.default_rng(seed=42)\n",
    "NUM_KNAPSACKS = 10\n",
    "NUM_ITEMS = 100\n",
    "NUM_DIMENSIONS = 10\n",
    "VALUES = rng.integers(0, 1000, size=NUM_ITEMS)\n",
    "WEIGHTS = rng.integers(0, 1000, size=(NUM_ITEMS, NUM_DIMENSIONS))\n",
    "CONSTRAINTS = rng.integers(1000 * 2, 1000 * NUM_ITEMS // NUM_KNAPSACKS,size=(NUM_KNAPSACKS, NUM_DIMENSIONS))"
   ]
  },
  {
   "cell_type": "code",
   "execution_count": null,
   "id": "24e5644a",
   "metadata": {},
   "outputs": [],
   "source": [
    "results = simulatedAnnealing()\n",
    "results.plot_fitness()\n",
    "print(results)"
   ]
  },
  {
   "cell_type": "code",
   "execution_count": null,
   "id": "69dba94e",
   "metadata": {},
   "outputs": [],
   "source": [
    "results = steepestAscentHillClimbing()\n",
    "results.plot_fitness()\n",
    "print(results)"
   ]
  },
  {
   "cell_type": "code",
   "execution_count": null,
   "id": "117380d6",
   "metadata": {},
   "outputs": [],
   "source": [
    "# Problem 3:\n",
    "rng = np.random.default_rng(seed=42)\n",
    "NUM_KNAPSACKS = 100\n",
    "NUM_ITEMS = 5000\n",
    "NUM_DIMENSIONS = 100\n",
    "VALUES = rng.integers(0, 1000, size=NUM_ITEMS)\n",
    "WEIGHTS = rng.integers(0, 1000, size=(NUM_ITEMS, NUM_DIMENSIONS))\n",
    "CONSTRAINTS = rng.integers(1000 * 10, 1000 * 2 * NUM_ITEMS // NUM_KNAPSACKS, size=(NUM_KNAPSACKS, NUM_DIMENSIONS))"
   ]
  },
  {
   "cell_type": "code",
   "execution_count": null,
   "id": "227ac4c4",
   "metadata": {},
   "outputs": [],
   "source": [
    "MAX_STEPS = 20000"
   ]
  },
  {
   "cell_type": "code",
   "execution_count": null,
   "id": "ef563201",
   "metadata": {},
   "outputs": [],
   "source": [
    "results = simulatedAnnealing()\n",
    "results.plot_fitness()\n",
    "print(results)"
   ]
  },
  {
   "cell_type": "code",
   "execution_count": null,
   "id": "18fc4231",
   "metadata": {},
   "outputs": [],
   "source": [
    "results = steepestAscentHillClimbing(num_neighbors=25)\n",
    "results.plot_fitness()\n",
    "print(results)"
   ]
  }
 ],
 "metadata": {
  "kernelspec": {
   "display_name": "cienv",
   "language": "python",
   "name": "python3"
  },
  "language_info": {
   "codemirror_mode": {
    "name": "ipython",
    "version": 3
   },
   "file_extension": ".py",
   "mimetype": "text/x-python",
   "name": "python",
   "nbconvert_exporter": "python",
   "pygments_lexer": "ipython3",
   "version": "3.13.2"
  }
 },
 "nbformat": 4,
 "nbformat_minor": 5
}
